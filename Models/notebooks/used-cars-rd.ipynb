{
 "cells": [
  {
   "cell_type": "code",
   "execution_count": 1,
   "id": "9ea9897f",
   "metadata": {
    "ExecuteTime": {
     "end_time": "2022-05-10T08:03:19.886754Z",
     "start_time": "2022-05-10T08:02:56.569276Z"
    }
   },
   "outputs": [],
   "source": [
    "import warnings\n",
    "import pandas as pd\n",
    "import numpy as np\n",
    "import seaborn as sns\n",
    "import matplotlib.pyplot as plt\n",
    "from dython import nominal, data_utils\n",
    "from scipy.stats import norm, skew\n",
    "\n",
    "warnings.filterwarnings('ignore')"
   ]
  },
  {
   "cell_type": "code",
   "execution_count": 2,
   "id": "b32da408",
   "metadata": {
    "ExecuteTime": {
     "end_time": "2022-05-10T08:03:35.949283Z",
     "start_time": "2022-05-10T08:03:19.902849Z"
    }
   },
   "outputs": [
    {
     "data": {
      "text/html": [
       "<div>\n",
       "<style scoped>\n",
       "    .dataframe tbody tr th:only-of-type {\n",
       "        vertical-align: middle;\n",
       "    }\n",
       "\n",
       "    .dataframe tbody tr th {\n",
       "        vertical-align: top;\n",
       "    }\n",
       "\n",
       "    .dataframe thead th {\n",
       "        text-align: right;\n",
       "    }\n",
       "</style>\n",
       "<table border=\"1\" class=\"dataframe\">\n",
       "  <thead>\n",
       "    <tr style=\"text-align: right;\">\n",
       "      <th></th>\n",
       "      <th>dateCrawled</th>\n",
       "      <th>name</th>\n",
       "      <th>seller</th>\n",
       "      <th>offerType</th>\n",
       "      <th>price</th>\n",
       "      <th>abtest</th>\n",
       "      <th>vehicleType</th>\n",
       "      <th>yearOfRegistration</th>\n",
       "      <th>gearbox</th>\n",
       "      <th>powerPS</th>\n",
       "      <th>model</th>\n",
       "      <th>kilometer</th>\n",
       "      <th>monthOfRegistration</th>\n",
       "      <th>fuelType</th>\n",
       "      <th>brand</th>\n",
       "      <th>notRepairedDamage</th>\n",
       "      <th>dateCreated</th>\n",
       "      <th>nrOfPictures</th>\n",
       "      <th>postalCode</th>\n",
       "      <th>lastSeen</th>\n",
       "    </tr>\n",
       "  </thead>\n",
       "  <tbody>\n",
       "    <tr>\n",
       "      <th>223887</th>\n",
       "      <td>2016-03-30 20:36:16</td>\n",
       "      <td>Auto_VW_Lupo_...._zu_verkaufen</td>\n",
       "      <td>privat</td>\n",
       "      <td>Angebot</td>\n",
       "      <td>1500</td>\n",
       "      <td>control</td>\n",
       "      <td>NaN</td>\n",
       "      <td>2017</td>\n",
       "      <td>manuell</td>\n",
       "      <td>75</td>\n",
       "      <td>lupo</td>\n",
       "      <td>150000</td>\n",
       "      <td>0</td>\n",
       "      <td>benzin</td>\n",
       "      <td>volkswagen</td>\n",
       "      <td>nein</td>\n",
       "      <td>2016-03-30 00:00:00</td>\n",
       "      <td>0</td>\n",
       "      <td>66787</td>\n",
       "      <td>2016-04-05 11:46:04</td>\n",
       "    </tr>\n",
       "    <tr>\n",
       "      <th>42908</th>\n",
       "      <td>2016-03-09 14:25:21</td>\n",
       "      <td>Sehr_gut_erhaltener_Opel_astra</td>\n",
       "      <td>privat</td>\n",
       "      <td>Angebot</td>\n",
       "      <td>1000</td>\n",
       "      <td>control</td>\n",
       "      <td>NaN</td>\n",
       "      <td>2017</td>\n",
       "      <td>automatik</td>\n",
       "      <td>0</td>\n",
       "      <td>astra</td>\n",
       "      <td>150000</td>\n",
       "      <td>0</td>\n",
       "      <td>benzin</td>\n",
       "      <td>opel</td>\n",
       "      <td>nein</td>\n",
       "      <td>2016-03-09 00:00:00</td>\n",
       "      <td>0</td>\n",
       "      <td>55411</td>\n",
       "      <td>2016-03-21 10:17:51</td>\n",
       "    </tr>\n",
       "    <tr>\n",
       "      <th>312476</th>\n",
       "      <td>2016-04-03 18:52:52</td>\n",
       "      <td>Ford_Focus_ohne_Rost</td>\n",
       "      <td>privat</td>\n",
       "      <td>Angebot</td>\n",
       "      <td>0</td>\n",
       "      <td>control</td>\n",
       "      <td>limousine</td>\n",
       "      <td>2000</td>\n",
       "      <td>manuell</td>\n",
       "      <td>115</td>\n",
       "      <td>focus</td>\n",
       "      <td>150000</td>\n",
       "      <td>6</td>\n",
       "      <td>benzin</td>\n",
       "      <td>ford</td>\n",
       "      <td>nein</td>\n",
       "      <td>2016-04-03 00:00:00</td>\n",
       "      <td>0</td>\n",
       "      <td>1257</td>\n",
       "      <td>2016-04-05 19:19:09</td>\n",
       "    </tr>\n",
       "    <tr>\n",
       "      <th>85714</th>\n",
       "      <td>2016-03-11 19:38:01</td>\n",
       "      <td>A5_3.0_TDI_DPF_quattro_S_tronic_NAVI_XEN_2xS_LINE</td>\n",
       "      <td>privat</td>\n",
       "      <td>Angebot</td>\n",
       "      <td>10500</td>\n",
       "      <td>test</td>\n",
       "      <td>limousine</td>\n",
       "      <td>2011</td>\n",
       "      <td>automatik</td>\n",
       "      <td>239</td>\n",
       "      <td>a5</td>\n",
       "      <td>125000</td>\n",
       "      <td>9</td>\n",
       "      <td>diesel</td>\n",
       "      <td>audi</td>\n",
       "      <td>nein</td>\n",
       "      <td>2016-03-11 00:00:00</td>\n",
       "      <td>0</td>\n",
       "      <td>10115</td>\n",
       "      <td>2016-03-11 19:38:01</td>\n",
       "    </tr>\n",
       "    <tr>\n",
       "      <th>56972</th>\n",
       "      <td>2016-03-21 19:43:02</td>\n",
       "      <td>Set_Cordoba_CLX_ohne_TÜV</td>\n",
       "      <td>privat</td>\n",
       "      <td>Angebot</td>\n",
       "      <td>0</td>\n",
       "      <td>test</td>\n",
       "      <td>limousine</td>\n",
       "      <td>1995</td>\n",
       "      <td>manuell</td>\n",
       "      <td>60</td>\n",
       "      <td>cordoba</td>\n",
       "      <td>90000</td>\n",
       "      <td>0</td>\n",
       "      <td>NaN</td>\n",
       "      <td>seat</td>\n",
       "      <td>ja</td>\n",
       "      <td>2016-03-21 00:00:00</td>\n",
       "      <td>0</td>\n",
       "      <td>64665</td>\n",
       "      <td>2016-03-21 19:43:02</td>\n",
       "    </tr>\n",
       "  </tbody>\n",
       "</table>\n",
       "</div>"
      ],
      "text/plain": [
       "                dateCrawled  \\\n",
       "223887  2016-03-30 20:36:16   \n",
       "42908   2016-03-09 14:25:21   \n",
       "312476  2016-04-03 18:52:52   \n",
       "85714   2016-03-11 19:38:01   \n",
       "56972   2016-03-21 19:43:02   \n",
       "\n",
       "                                                     name  seller offerType  \\\n",
       "223887                     Auto_VW_Lupo_...._zu_verkaufen  privat   Angebot   \n",
       "42908                      Sehr_gut_erhaltener_Opel_astra  privat   Angebot   \n",
       "312476                               Ford_Focus_ohne_Rost  privat   Angebot   \n",
       "85714   A5_3.0_TDI_DPF_quattro_S_tronic_NAVI_XEN_2xS_LINE  privat   Angebot   \n",
       "56972                            Set_Cordoba_CLX_ohne_TÜV  privat   Angebot   \n",
       "\n",
       "        price   abtest vehicleType  yearOfRegistration    gearbox  powerPS  \\\n",
       "223887   1500  control         NaN                2017    manuell       75   \n",
       "42908    1000  control         NaN                2017  automatik        0   \n",
       "312476      0  control   limousine                2000    manuell      115   \n",
       "85714   10500     test   limousine                2011  automatik      239   \n",
       "56972       0     test   limousine                1995    manuell       60   \n",
       "\n",
       "          model  kilometer  monthOfRegistration fuelType       brand  \\\n",
       "223887     lupo     150000                    0   benzin  volkswagen   \n",
       "42908     astra     150000                    0   benzin        opel   \n",
       "312476    focus     150000                    6   benzin        ford   \n",
       "85714        a5     125000                    9   diesel        audi   \n",
       "56972   cordoba      90000                    0      NaN        seat   \n",
       "\n",
       "       notRepairedDamage          dateCreated  nrOfPictures  postalCode  \\\n",
       "223887              nein  2016-03-30 00:00:00             0       66787   \n",
       "42908               nein  2016-03-09 00:00:00             0       55411   \n",
       "312476              nein  2016-04-03 00:00:00             0        1257   \n",
       "85714               nein  2016-03-11 00:00:00             0       10115   \n",
       "56972                 ja  2016-03-21 00:00:00             0       64665   \n",
       "\n",
       "                   lastSeen  \n",
       "223887  2016-04-05 11:46:04  \n",
       "42908   2016-03-21 10:17:51  \n",
       "312476  2016-04-05 19:19:09  \n",
       "85714   2016-03-11 19:38:01  \n",
       "56972   2016-03-21 19:43:02  "
      ]
     },
     "execution_count": 2,
     "metadata": {},
     "output_type": "execute_result"
    }
   ],
   "source": [
    "raw = pd.read_csv('./autos.csv', encoding='ISO-8859-1')\n",
    "raw.sample(n=5)"
   ]
  },
  {
   "cell_type": "markdown",
   "id": "7394ea32",
   "metadata": {},
   "source": [
    "## Handling missing values"
   ]
  },
  {
   "cell_type": "code",
   "execution_count": 3,
   "id": "66b4aa8a",
   "metadata": {
    "ExecuteTime": {
     "end_time": "2022-05-10T08:03:36.798714Z",
     "start_time": "2022-05-10T08:03:35.963102Z"
    }
   },
   "outputs": [
    {
     "data": {
      "text/plain": [
       "dateCrawled                0\n",
       "name                       0\n",
       "seller                     0\n",
       "offerType                  0\n",
       "price                      0\n",
       "abtest                     0\n",
       "vehicleType            37869\n",
       "yearOfRegistration         0\n",
       "gearbox                20209\n",
       "powerPS                    0\n",
       "model                  20484\n",
       "kilometer                  0\n",
       "monthOfRegistration        0\n",
       "fuelType               33386\n",
       "brand                      0\n",
       "notRepairedDamage      72060\n",
       "dateCreated                0\n",
       "nrOfPictures               0\n",
       "postalCode                 0\n",
       "lastSeen                   0\n",
       "dtype: int64"
      ]
     },
     "execution_count": 3,
     "metadata": {},
     "output_type": "execute_result"
    }
   ],
   "source": [
    "raw.isna().sum()"
   ]
  },
  {
   "cell_type": "code",
   "execution_count": 4,
   "id": "014d31cc",
   "metadata": {
    "ExecuteTime": {
     "end_time": "2022-05-10T08:03:38.516746Z",
     "start_time": "2022-05-10T08:03:36.812148Z"
    }
   },
   "outputs": [
    {
     "name": "stdout",
     "output_type": "stream",
     "text": [
      "<class 'pandas.core.frame.DataFrame'>\n",
      "RangeIndex: 371528 entries, 0 to 371527\n",
      "Data columns (total 20 columns):\n",
      " #   Column               Non-Null Count   Dtype \n",
      "---  ------               --------------   ----- \n",
      " 0   dateCrawled          371528 non-null  object\n",
      " 1   name                 371528 non-null  object\n",
      " 2   seller               371528 non-null  object\n",
      " 3   offerType            371528 non-null  object\n",
      " 4   price                371528 non-null  int64 \n",
      " 5   abtest               371528 non-null  object\n",
      " 6   vehicleType          333659 non-null  object\n",
      " 7   yearOfRegistration   371528 non-null  int64 \n",
      " 8   gearbox              351319 non-null  object\n",
      " 9   powerPS              371528 non-null  int64 \n",
      " 10  model                351044 non-null  object\n",
      " 11  kilometer            371528 non-null  int64 \n",
      " 12  monthOfRegistration  371528 non-null  int64 \n",
      " 13  fuelType             338142 non-null  object\n",
      " 14  brand                371528 non-null  object\n",
      " 15  notRepairedDamage    299468 non-null  object\n",
      " 16  dateCreated          371528 non-null  object\n",
      " 17  nrOfPictures         371528 non-null  int64 \n",
      " 18  postalCode           371528 non-null  int64 \n",
      " 19  lastSeen             371528 non-null  object\n",
      "dtypes: int64(7), object(13)\n",
      "memory usage: 56.7+ MB\n"
     ]
    }
   ],
   "source": [
    "raw.info()"
   ]
  },
  {
   "cell_type": "code",
   "execution_count": 5,
   "id": "b1c00ce6",
   "metadata": {
    "ExecuteTime": {
     "end_time": "2022-05-10T08:03:39.065041Z",
     "start_time": "2022-05-10T08:03:38.530842Z"
    }
   },
   "outputs": [],
   "source": [
    "raw = raw.astype({\n",
    "    'yearOfRegistration': object,\n",
    "    'powerPS': object,\n",
    "    'monthOfRegistration': object,\n",
    "    'nrOfPictures': object,\n",
    "    'postalCode': object\n",
    "})"
   ]
  },
  {
   "cell_type": "code",
   "execution_count": 6,
   "id": "5ca0ba30",
   "metadata": {
    "ExecuteTime": {
     "end_time": "2022-05-10T08:03:40.046347Z",
     "start_time": "2022-05-10T08:03:39.075601Z"
    }
   },
   "outputs": [
    {
     "data": {
      "text/plain": [
       "dateCrawled            0\n",
       "name                   0\n",
       "seller                 0\n",
       "offerType              0\n",
       "price                  0\n",
       "abtest                 0\n",
       "vehicleType            0\n",
       "yearOfRegistration     0\n",
       "gearbox                0\n",
       "powerPS                0\n",
       "model                  0\n",
       "kilometer              0\n",
       "monthOfRegistration    0\n",
       "fuelType               0\n",
       "brand                  0\n",
       "notRepairedDamage      0\n",
       "dateCreated            0\n",
       "nrOfPictures           0\n",
       "postalCode             0\n",
       "lastSeen               0\n",
       "dtype: int64"
      ]
     },
     "execution_count": 6,
     "metadata": {},
     "output_type": "execute_result"
    }
   ],
   "source": [
    "raw.loc[:, 'vehicleType'] = raw.loc[:, 'vehicleType'].fillna('any')\n",
    "raw.loc[:, 'gearbox'] = raw.loc[:, 'gearbox'].fillna('any')\n",
    "raw.loc[:, 'model'] = raw.loc[:, 'model'].fillna('any')\n",
    "raw.loc[:, 'fuelType'] = raw.loc[:, 'fuelType'].fillna('any')\n",
    "raw.loc[:, 'notRepairedDamage'] = raw.loc[:, 'notRepairedDamage'].fillna('not specified')\n",
    "\n",
    "raw.isna().sum()"
   ]
  },
  {
   "cell_type": "markdown",
   "id": "b1f0c9dd",
   "metadata": {},
   "source": [
    "## Feature engineering"
   ]
  },
  {
   "cell_type": "code",
   "execution_count": 7,
   "id": "f30583f5",
   "metadata": {
    "ExecuteTime": {
     "end_time": "2022-05-10T08:03:41.428216Z",
     "start_time": "2022-05-10T08:03:40.052504Z"
    }
   },
   "outputs": [
    {
     "data": {
      "text/html": [
       "<div>\n",
       "<style scoped>\n",
       "    .dataframe tbody tr th:only-of-type {\n",
       "        vertical-align: middle;\n",
       "    }\n",
       "\n",
       "    .dataframe tbody tr th {\n",
       "        vertical-align: top;\n",
       "    }\n",
       "\n",
       "    .dataframe thead th {\n",
       "        text-align: right;\n",
       "    }\n",
       "</style>\n",
       "<table border=\"1\" class=\"dataframe\">\n",
       "  <thead>\n",
       "    <tr style=\"text-align: right;\">\n",
       "      <th></th>\n",
       "      <th>seller</th>\n",
       "      <th>offerType</th>\n",
       "      <th>price</th>\n",
       "      <th>abtest</th>\n",
       "      <th>vehicleType</th>\n",
       "      <th>yearOfRegistration</th>\n",
       "      <th>gearbox</th>\n",
       "      <th>powerPS</th>\n",
       "      <th>model</th>\n",
       "      <th>kilometer</th>\n",
       "      <th>monthOfRegistration</th>\n",
       "      <th>fuelType</th>\n",
       "      <th>brand</th>\n",
       "      <th>notRepairedDamage</th>\n",
       "      <th>nrOfPictures</th>\n",
       "      <th>postalCode</th>\n",
       "      <th>monthCreated</th>\n",
       "    </tr>\n",
       "  </thead>\n",
       "  <tbody>\n",
       "    <tr>\n",
       "      <th>26454</th>\n",
       "      <td>privat</td>\n",
       "      <td>Angebot</td>\n",
       "      <td>400</td>\n",
       "      <td>test</td>\n",
       "      <td>kombi</td>\n",
       "      <td>1991</td>\n",
       "      <td>automatik</td>\n",
       "      <td>90</td>\n",
       "      <td>any</td>\n",
       "      <td>150000</td>\n",
       "      <td>3</td>\n",
       "      <td>benzin</td>\n",
       "      <td>volkswagen</td>\n",
       "      <td>not specified</td>\n",
       "      <td>0</td>\n",
       "      <td>46487</td>\n",
       "      <td>3</td>\n",
       "    </tr>\n",
       "    <tr>\n",
       "      <th>44636</th>\n",
       "      <td>privat</td>\n",
       "      <td>Angebot</td>\n",
       "      <td>12990</td>\n",
       "      <td>test</td>\n",
       "      <td>limousine</td>\n",
       "      <td>2011</td>\n",
       "      <td>automatik</td>\n",
       "      <td>136</td>\n",
       "      <td>auris</td>\n",
       "      <td>60000</td>\n",
       "      <td>7</td>\n",
       "      <td>hybrid</td>\n",
       "      <td>toyota</td>\n",
       "      <td>nein</td>\n",
       "      <td>0</td>\n",
       "      <td>88048</td>\n",
       "      <td>3</td>\n",
       "    </tr>\n",
       "    <tr>\n",
       "      <th>110698</th>\n",
       "      <td>privat</td>\n",
       "      <td>Angebot</td>\n",
       "      <td>7200</td>\n",
       "      <td>control</td>\n",
       "      <td>kombi</td>\n",
       "      <td>2005</td>\n",
       "      <td>automatik</td>\n",
       "      <td>150</td>\n",
       "      <td>c_klasse</td>\n",
       "      <td>150000</td>\n",
       "      <td>12</td>\n",
       "      <td>diesel</td>\n",
       "      <td>mercedes_benz</td>\n",
       "      <td>nein</td>\n",
       "      <td>0</td>\n",
       "      <td>74072</td>\n",
       "      <td>3</td>\n",
       "    </tr>\n",
       "    <tr>\n",
       "      <th>273064</th>\n",
       "      <td>privat</td>\n",
       "      <td>Angebot</td>\n",
       "      <td>990</td>\n",
       "      <td>test</td>\n",
       "      <td>kleinwagen</td>\n",
       "      <td>2001</td>\n",
       "      <td>manuell</td>\n",
       "      <td>75</td>\n",
       "      <td>ibiza</td>\n",
       "      <td>125000</td>\n",
       "      <td>1</td>\n",
       "      <td>benzin</td>\n",
       "      <td>seat</td>\n",
       "      <td>nein</td>\n",
       "      <td>0</td>\n",
       "      <td>22119</td>\n",
       "      <td>3</td>\n",
       "    </tr>\n",
       "    <tr>\n",
       "      <th>70947</th>\n",
       "      <td>privat</td>\n",
       "      <td>Angebot</td>\n",
       "      <td>3900</td>\n",
       "      <td>test</td>\n",
       "      <td>cabrio</td>\n",
       "      <td>1997</td>\n",
       "      <td>manuell</td>\n",
       "      <td>150</td>\n",
       "      <td>900</td>\n",
       "      <td>100000</td>\n",
       "      <td>2</td>\n",
       "      <td>benzin</td>\n",
       "      <td>saab</td>\n",
       "      <td>nein</td>\n",
       "      <td>0</td>\n",
       "      <td>74321</td>\n",
       "      <td>3</td>\n",
       "    </tr>\n",
       "  </tbody>\n",
       "</table>\n",
       "</div>"
      ],
      "text/plain": [
       "        seller offerType  price   abtest vehicleType yearOfRegistration  \\\n",
       "26454   privat   Angebot    400     test       kombi               1991   \n",
       "44636   privat   Angebot  12990     test   limousine               2011   \n",
       "110698  privat   Angebot   7200  control       kombi               2005   \n",
       "273064  privat   Angebot    990     test  kleinwagen               2001   \n",
       "70947   privat   Angebot   3900     test      cabrio               1997   \n",
       "\n",
       "          gearbox powerPS     model  kilometer monthOfRegistration fuelType  \\\n",
       "26454   automatik      90       any     150000                   3   benzin   \n",
       "44636   automatik     136     auris      60000                   7   hybrid   \n",
       "110698  automatik     150  c_klasse     150000                  12   diesel   \n",
       "273064    manuell      75     ibiza     125000                   1   benzin   \n",
       "70947     manuell     150       900     100000                   2   benzin   \n",
       "\n",
       "                brand notRepairedDamage nrOfPictures postalCode  monthCreated  \n",
       "26454      volkswagen     not specified            0      46487             3  \n",
       "44636          toyota              nein            0      88048             3  \n",
       "110698  mercedes_benz              nein            0      74072             3  \n",
       "273064           seat              nein            0      22119             3  \n",
       "70947            saab              nein            0      74321             3  "
      ]
     },
     "execution_count": 7,
     "metadata": {},
     "output_type": "execute_result"
    }
   ],
   "source": [
    "filtered_raw = raw.drop(['dateCrawled', 'lastSeen', 'name'], axis=1)\n",
    "filtered_raw['monthCreated'] = pd.DatetimeIndex(filtered_raw['dateCreated']).month\n",
    "filtered_raw.drop(['dateCreated'], axis=1, inplace=True)\n",
    "\n",
    "filtered_raw.sample(n=5)"
   ]
  },
  {
   "cell_type": "code",
   "execution_count": 8,
   "id": "056bc37a",
   "metadata": {
    "ExecuteTime": {
     "end_time": "2022-05-10T08:03:42.120991Z",
     "start_time": "2022-05-10T08:03:41.435010Z"
    }
   },
   "outputs": [
    {
     "data": {
      "text/plain": [
       "12907"
      ]
     },
     "execution_count": 8,
     "metadata": {},
     "output_type": "execute_result"
    }
   ],
   "source": [
    "filtered_raw.duplicated().sum()"
   ]
  },
  {
   "cell_type": "code",
   "execution_count": 9,
   "id": "a09e5675",
   "metadata": {
    "ExecuteTime": {
     "end_time": "2022-05-10T08:03:43.316808Z",
     "start_time": "2022-05-10T08:03:42.126741Z"
    }
   },
   "outputs": [
    {
     "name": "stdout",
     "output_type": "stream",
     "text": [
      "358621\n"
     ]
    },
    {
     "data": {
      "text/plain": [
       "seller                    2\n",
       "offerType                 2\n",
       "price                  5597\n",
       "abtest                    2\n",
       "vehicleType               9\n",
       "yearOfRegistration      155\n",
       "gearbox                   3\n",
       "powerPS                 794\n",
       "model                   252\n",
       "kilometer                13\n",
       "monthOfRegistration      13\n",
       "fuelType                  8\n",
       "brand                    40\n",
       "notRepairedDamage         3\n",
       "nrOfPictures              1\n",
       "postalCode             8150\n",
       "monthCreated             10\n",
       "dtype: int64"
      ]
     },
     "execution_count": 9,
     "metadata": {},
     "output_type": "execute_result"
    }
   ],
   "source": [
    "filtered_raw.drop_duplicates(inplace=True)\n",
    "print(len(filtered_raw))\n",
    "filtered_raw.nunique()"
   ]
  },
  {
   "cell_type": "code",
   "execution_count": 10,
   "id": "56c67b3a",
   "metadata": {
    "ExecuteTime": {
     "end_time": "2022-05-10T08:03:43.402155Z",
     "start_time": "2022-05-10T08:03:43.323114Z"
    }
   },
   "outputs": [],
   "source": [
    "filtered_raw.drop(['nrOfPictures'], axis=1, inplace=True)"
   ]
  },
  {
   "cell_type": "code",
   "execution_count": 11,
   "id": "37e939a5",
   "metadata": {
    "ExecuteTime": {
     "end_time": "2022-05-10T08:03:43.735871Z",
     "start_time": "2022-05-10T08:03:43.408792Z"
    }
   },
   "outputs": [],
   "source": [
    "filtered_raw.drop(filtered_raw[filtered_raw['powerPS'] == 0].index, inplace=True)"
   ]
  },
  {
   "cell_type": "markdown",
   "id": "caacff91",
   "metadata": {
    "ExecuteTime": {
     "end_time": "2022-05-07T23:41:48.296678Z",
     "start_time": "2022-05-07T23:41:43.296162Z"
    }
   },
   "source": [
    "## Data Exploration"
   ]
  },
  {
   "cell_type": "code",
   "execution_count": 12,
   "id": "67cb152c",
   "metadata": {
    "ExecuteTime": {
     "end_time": "2022-05-10T08:03:48.677957Z",
     "start_time": "2022-05-10T08:03:43.742237Z"
    },
    "scrolled": false
   },
   "outputs": [
    {
     "data": {
      "image/png": "[encoded data removed]",
      "text/plain": [
       "<Figure size 1296x1296 with 9 Axes>"
      ]
     },
     "metadata": {
      "needs_background": "light"
     },
     "output_type": "display_data"
    }
   ],
   "source": [
    "fig, axes = plt.subplots(nrows=3, ncols=3, figsize=(18, 18))\n",
    "sns.countplot(x='seller', data=filtered_raw, ax= axes[0,0])\n",
    "sns.countplot(x='offerType', data=filtered_raw, ax= axes[0,1])\n",
    "sns.countplot(x='gearbox', data=filtered_raw, ax= axes[0,2])\n",
    "sns.countplot(x='abtest', data=filtered_raw, ax= axes[1,0])\n",
    "sns.countplot(x='vehicleType', data=filtered_raw, ax= axes[1,1])\n",
    "sns.countplot(x='monthOfRegistration', data=filtered_raw, ax= axes[1,2])\n",
    "sns.countplot(x='fuelType', data=filtered_raw, ax= axes[2,0])\n",
    "sns.countplot(x='notRepairedDamage', data=filtered_raw, ax= axes[2,1])\n",
    "sns.countplot(x='monthCreated', data=filtered_raw, ax= axes[2,2])\n",
    "plt.show()"
   ]
  },
  {
   "cell_type": "code",
   "execution_count": 13,
   "id": "07b1ed5e",
   "metadata": {
    "ExecuteTime": {
     "end_time": "2022-05-10T08:03:48.753132Z",
     "start_time": "2022-05-10T08:03:48.689236Z"
    }
   },
   "outputs": [
    {
     "data": {
      "text/html": [
       "<div>\n",
       "<style scoped>\n",
       "    .dataframe tbody tr th:only-of-type {\n",
       "        vertical-align: middle;\n",
       "    }\n",
       "\n",
       "    .dataframe tbody tr th {\n",
       "        vertical-align: top;\n",
       "    }\n",
       "\n",
       "    .dataframe thead th {\n",
       "        text-align: right;\n",
       "    }\n",
       "</style>\n",
       "<table border=\"1\" class=\"dataframe\">\n",
       "  <thead>\n",
       "    <tr style=\"text-align: right;\">\n",
       "      <th></th>\n",
       "      <th>price</th>\n",
       "      <th>abtest</th>\n",
       "      <th>vehicleType</th>\n",
       "      <th>yearOfRegistration</th>\n",
       "      <th>gearbox</th>\n",
       "      <th>powerPS</th>\n",
       "      <th>model</th>\n",
       "      <th>kilometer</th>\n",
       "      <th>monthOfRegistration</th>\n",
       "      <th>fuelType</th>\n",
       "      <th>brand</th>\n",
       "      <th>notRepairedDamage</th>\n",
       "      <th>postalCode</th>\n",
       "    </tr>\n",
       "  </thead>\n",
       "  <tbody>\n",
       "    <tr>\n",
       "      <th>1</th>\n",
       "      <td>18300</td>\n",
       "      <td>test</td>\n",
       "      <td>coupe</td>\n",
       "      <td>2011</td>\n",
       "      <td>manuell</td>\n",
       "      <td>190</td>\n",
       "      <td>any</td>\n",
       "      <td>125000</td>\n",
       "      <td>5</td>\n",
       "      <td>diesel</td>\n",
       "      <td>audi</td>\n",
       "      <td>ja</td>\n",
       "      <td>66954</td>\n",
       "    </tr>\n",
       "    <tr>\n",
       "      <th>2</th>\n",
       "      <td>9800</td>\n",
       "      <td>test</td>\n",
       "      <td>suv</td>\n",
       "      <td>2004</td>\n",
       "      <td>automatik</td>\n",
       "      <td>163</td>\n",
       "      <td>grand</td>\n",
       "      <td>125000</td>\n",
       "      <td>8</td>\n",
       "      <td>diesel</td>\n",
       "      <td>jeep</td>\n",
       "      <td>not specified</td>\n",
       "      <td>90480</td>\n",
       "    </tr>\n",
       "    <tr>\n",
       "      <th>3</th>\n",
       "      <td>1500</td>\n",
       "      <td>test</td>\n",
       "      <td>kleinwagen</td>\n",
       "      <td>2001</td>\n",
       "      <td>manuell</td>\n",
       "      <td>75</td>\n",
       "      <td>golf</td>\n",
       "      <td>150000</td>\n",
       "      <td>6</td>\n",
       "      <td>benzin</td>\n",
       "      <td>volkswagen</td>\n",
       "      <td>nein</td>\n",
       "      <td>91074</td>\n",
       "    </tr>\n",
       "    <tr>\n",
       "      <th>4</th>\n",
       "      <td>3600</td>\n",
       "      <td>test</td>\n",
       "      <td>kleinwagen</td>\n",
       "      <td>2008</td>\n",
       "      <td>manuell</td>\n",
       "      <td>69</td>\n",
       "      <td>fabia</td>\n",
       "      <td>90000</td>\n",
       "      <td>7</td>\n",
       "      <td>diesel</td>\n",
       "      <td>skoda</td>\n",
       "      <td>nein</td>\n",
       "      <td>60437</td>\n",
       "    </tr>\n",
       "    <tr>\n",
       "      <th>5</th>\n",
       "      <td>650</td>\n",
       "      <td>test</td>\n",
       "      <td>limousine</td>\n",
       "      <td>1995</td>\n",
       "      <td>manuell</td>\n",
       "      <td>102</td>\n",
       "      <td>3er</td>\n",
       "      <td>150000</td>\n",
       "      <td>10</td>\n",
       "      <td>benzin</td>\n",
       "      <td>bmw</td>\n",
       "      <td>ja</td>\n",
       "      <td>33775</td>\n",
       "    </tr>\n",
       "  </tbody>\n",
       "</table>\n",
       "</div>"
      ],
      "text/plain": [
       "   price abtest vehicleType yearOfRegistration    gearbox powerPS  model  \\\n",
       "1  18300   test       coupe               2011    manuell     190    any   \n",
       "2   9800   test         suv               2004  automatik     163  grand   \n",
       "3   1500   test  kleinwagen               2001    manuell      75   golf   \n",
       "4   3600   test  kleinwagen               2008    manuell      69  fabia   \n",
       "5    650   test   limousine               1995    manuell     102    3er   \n",
       "\n",
       "   kilometer monthOfRegistration fuelType       brand notRepairedDamage  \\\n",
       "1     125000                   5   diesel        audi                ja   \n",
       "2     125000                   8   diesel        jeep     not specified   \n",
       "3     150000                   6   benzin  volkswagen              nein   \n",
       "4      90000                   7   diesel       skoda              nein   \n",
       "5     150000                  10   benzin         bmw                ja   \n",
       "\n",
       "  postalCode  \n",
       "1      66954  \n",
       "2      90480  \n",
       "3      91074  \n",
       "4      60437  \n",
       "5      33775  "
      ]
     },
     "execution_count": 13,
     "metadata": {},
     "output_type": "execute_result"
    }
   ],
   "source": [
    "updated_raw = filtered_raw.drop(['seller', 'offerType', 'monthCreated'], axis= 1)\n",
    "updated_raw.head(5)"
   ]
  },
  {
   "cell_type": "markdown",
   "id": "bd44c723",
   "metadata": {},
   "source": [
    "## Correlations"
   ]
  },
  {
   "cell_type": "code",
   "execution_count": 14,
   "id": "da7f011a",
   "metadata": {
    "ExecuteTime": {
     "end_time": "2022-05-10T08:03:59.759396Z",
     "start_time": "2022-05-10T08:03:48.759461Z"
    }
   },
   "outputs": [
    {
     "data": {
      "text/plain": [
       "price (con)                  1.000000\n",
       "fuelType (nom)               0.096930\n",
       "brand (nom)                  0.021318\n",
       "vehicleType (nom)            0.019141\n",
       "model (nom)                  0.009142\n",
       "powerPS (con)                0.007164\n",
       "notRepairedDamage (nom)      0.005146\n",
       "abtest (nom)                 0.001649\n",
       "gearbox (nom)                0.000387\n",
       "kilometer (con)              0.000114\n",
       "yearOfRegistration (con)    -0.000434\n",
       "monthOfRegistration (con)   -0.002550\n",
       "postalCode (con)            -0.002985\n",
       "Name: price (con), dtype: float64"
      ]
     },
     "execution_count": 14,
     "metadata": {},
     "output_type": "execute_result"
    }
   ],
   "source": [
    "data_corr_result = nominal.associations(updated_raw, mark_columns=True, compute_only=True)\n",
    "data_corr = pd.DataFrame(data_corr_result['corr'])\n",
    "\n",
    "data_corr.sort_values([\"price (con)\"], ascending = False, inplace = True)\n",
    "data_corr[\"price (con)\"]"
   ]
  },
  {
   "cell_type": "code",
   "execution_count": 15,
   "id": "e200f77b",
   "metadata": {
    "ExecuteTime": {
     "end_time": "2022-05-10T08:04:00.954709Z",
     "start_time": "2022-05-10T08:03:59.767976Z"
    }
   },
   "outputs": [
    {
     "data": {
      "image/png": "[encoded data removed]",
      "text/plain": [
       "<Figure size 1296x576 with 2 Axes>"
      ]
     },
     "metadata": {
      "needs_background": "light"
     },
     "output_type": "display_data"
    }
   ],
   "source": [
    "plt.figure(figsize=(18, 8))\n",
    "mask = np.zeros_like(data_corr, dtype=bool)\n",
    "mask[np.triu_indices_from(mask)] = True\n",
    "sns.heatmap(data_corr, vmin=-1, vmax=1, cmap='coolwarm', mask = mask,annot=True, linewidths=0.1)\n",
    "plt.show()"
   ]
  },
  {
   "cell_type": "markdown",
   "id": "bae0f26e",
   "metadata": {},
   "source": [
    "## Baseline"
   ]
  },
  {
   "cell_type": "code",
   "execution_count": 16,
   "id": "3fdee799",
   "metadata": {
    "ExecuteTime": {
     "end_time": "2022-05-10T08:04:00.979579Z",
     "start_time": "2022-05-10T08:04:00.962755Z"
    }
   },
   "outputs": [],
   "source": [
    "from sklearn.model_selection import train_test_split\n",
    "\n",
    "continuous_features = ['powerPS', 'kilometer', 'price']\n",
    "continuous_predictors = ['powerPS', 'kilometer']\n",
    "categorical_features = ['vehicleType', 'brand', 'fuelType']\n",
    "\n",
    "data = updated_raw[['powerPS', 'vehicleType', 'brand', 'fuelType', 'kilometer', 'price']]"
   ]
  },
  {
   "cell_type": "code",
   "execution_count": 17,
   "id": "0688407d",
   "metadata": {
    "ExecuteTime": {
     "end_time": "2022-05-10T08:04:01.412825Z",
     "start_time": "2022-05-10T08:04:00.984858Z"
    }
   },
   "outputs": [
    {
     "data": {
      "text/plain": [
       "Index(['powerPS', 'kilometer', 'price'], dtype='object')"
      ]
     },
     "execution_count": 17,
     "metadata": {},
     "output_type": "execute_result"
    }
   ],
   "source": [
    "skewness = data[continuous_features].apply(lambda x: skew(x))\n",
    "skewness = skewness[abs(skewness) > 0.5]\n",
    "skewed_features = skewness.index\n",
    "data[skewed_features] = np.log1p(data[skewed_features].astype(float))\n",
    "\n",
    "skewed_features"
   ]
  },
  {
   "cell_type": "code",
   "execution_count": 18,
   "id": "1c71ef4d",
   "metadata": {
    "ExecuteTime": {
     "end_time": "2022-05-10T08:04:01.419302Z",
     "start_time": "2022-05-10T08:04:01.416154Z"
    }
   },
   "outputs": [],
   "source": [
    "skewed_predictors = ['powerPS', 'kilometer']"
   ]
  },
  {
   "cell_type": "code",
   "execution_count": 19,
   "id": "f57671fd",
   "metadata": {
    "ExecuteTime": {
     "end_time": "2022-05-10T08:04:01.735943Z",
     "start_time": "2022-05-10T08:04:01.421639Z"
    }
   },
   "outputs": [],
   "source": [
    "X = data.drop('price', axis=1)\n",
    "y = data['price']\n",
    "\n",
    "X_train, X_test, y_train, y_test = train_test_split(X, y, test_size = 0.25, random_state = 0)\n",
    "X_train, X_val, y_train, y_val = train_test_split(X_train, y_train, test_size = 0.25, random_state = 0)"
   ]
  },
  {
   "cell_type": "code",
   "execution_count": 20,
   "id": "812e4820",
   "metadata": {
    "ExecuteTime": {
     "end_time": "2022-05-10T08:04:01.756645Z",
     "start_time": "2022-05-10T08:04:01.738237Z"
    }
   },
   "outputs": [
    {
     "data": {
      "text/html": [
       "<div>\n",
       "<style scoped>\n",
       "    .dataframe tbody tr th:only-of-type {\n",
       "        vertical-align: middle;\n",
       "    }\n",
       "\n",
       "    .dataframe tbody tr th {\n",
       "        vertical-align: top;\n",
       "    }\n",
       "\n",
       "    .dataframe thead th {\n",
       "        text-align: right;\n",
       "    }\n",
       "</style>\n",
       "<table border=\"1\" class=\"dataframe\">\n",
       "  <thead>\n",
       "    <tr style=\"text-align: right;\">\n",
       "      <th></th>\n",
       "      <th>powerPS</th>\n",
       "      <th>vehicleType</th>\n",
       "      <th>brand</th>\n",
       "      <th>fuelType</th>\n",
       "      <th>kilometer</th>\n",
       "    </tr>\n",
       "  </thead>\n",
       "  <tbody>\n",
       "    <tr>\n",
       "      <th>60493</th>\n",
       "      <td>4.615121</td>\n",
       "      <td>limousine</td>\n",
       "      <td>mercedes_benz</td>\n",
       "      <td>benzin</td>\n",
       "      <td>11.918397</td>\n",
       "    </tr>\n",
       "    <tr>\n",
       "      <th>282208</th>\n",
       "      <td>4.634729</td>\n",
       "      <td>kleinwagen</td>\n",
       "      <td>mercedes_benz</td>\n",
       "      <td>benzin</td>\n",
       "      <td>11.918397</td>\n",
       "    </tr>\n",
       "    <tr>\n",
       "      <th>87615</th>\n",
       "      <td>4.955827</td>\n",
       "      <td>kleinwagen</td>\n",
       "      <td>chrysler</td>\n",
       "      <td>benzin</td>\n",
       "      <td>11.918397</td>\n",
       "    </tr>\n",
       "    <tr>\n",
       "      <th>103558</th>\n",
       "      <td>5.609472</td>\n",
       "      <td>kombi</td>\n",
       "      <td>bmw</td>\n",
       "      <td>diesel</td>\n",
       "      <td>11.918397</td>\n",
       "    </tr>\n",
       "    <tr>\n",
       "      <th>140866</th>\n",
       "      <td>4.753590</td>\n",
       "      <td>limousine</td>\n",
       "      <td>mazda</td>\n",
       "      <td>benzin</td>\n",
       "      <td>11.918397</td>\n",
       "    </tr>\n",
       "  </tbody>\n",
       "</table>\n",
       "</div>"
      ],
      "text/plain": [
       "         powerPS vehicleType          brand fuelType  kilometer\n",
       "60493   4.615121   limousine  mercedes_benz   benzin  11.918397\n",
       "282208  4.634729  kleinwagen  mercedes_benz   benzin  11.918397\n",
       "87615   4.955827  kleinwagen       chrysler   benzin  11.918397\n",
       "103558  5.609472       kombi            bmw   diesel  11.918397\n",
       "140866  4.753590   limousine          mazda   benzin  11.918397"
      ]
     },
     "execution_count": 20,
     "metadata": {},
     "output_type": "execute_result"
    }
   ],
   "source": [
    "X_train.sample(n=5)"
   ]
  },
  {
   "cell_type": "code",
   "execution_count": 21,
   "id": "b5075261",
   "metadata": {
    "ExecuteTime": {
     "end_time": "2022-05-10T08:04:02.764135Z",
     "start_time": "2022-05-10T08:04:01.758993Z"
    }
   },
   "outputs": [],
   "source": [
    "from sklearn.pipeline import Pipeline\n",
    "from sklearn.compose import ColumnTransformer\n",
    "from sklearn.preprocessing import OneHotEncoder, StandardScaler\n",
    "from sklearn.ensemble import RandomForestRegressor\n",
    "from sklearn.metrics import mean_absolute_error\n",
    "\n",
    "categorical_transformer = OneHotEncoder(handle_unknown=\"ignore\")\n",
    "numeric_transformer = StandardScaler()\n",
    "\n",
    "preprocessor = ColumnTransformer(\n",
    "    transformers=[\n",
    "        (\"cat\", categorical_transformer, categorical_features),\n",
    "        (\"num\", numeric_transformer, continuous_predictors),\n",
    "    ]\n",
    ")\n",
    "\n",
    "pipe = Pipeline([\n",
    "    ('preprocessor', preprocessor),\n",
    "    ('classifier', RandomForestRegressor())\n",
    "])"
   ]
  },
  {
   "cell_type": "code",
   "execution_count": 22,
   "id": "c94bcbf1",
   "metadata": {
    "ExecuteTime": {
     "end_time": "2022-05-10T08:24:51.674740Z",
     "start_time": "2022-05-10T08:04:26.291617Z"
    }
   },
   "outputs": [
    {
     "data": {
      "text/plain": [
       "0.648096561804936"
      ]
     },
     "execution_count": 22,
     "metadata": {},
     "output_type": "execute_result"
    }
   ],
   "source": [
    "pipe.fit(X_train, y_train)\n",
    "y_pred = pipe.predict(X_val)\n",
    "mean_absolute_error(y_val, y_pred)"
   ]
  },
  {
   "cell_type": "code",
   "execution_count": null,
   "id": "8cbf1bf7",
   "metadata": {},
   "outputs": [],
   "source": []
  }
 ],
 "metadata": {
  "kernelspec": {
   "display_name": "Python 3",
   "language": "python",
   "name": "python3"
  },
  "language_info": {
   "codemirror_mode": {
    "name": "ipython",
    "version": 3
   },
   "file_extension": ".py",
   "mimetype": "text/x-python",
   "name": "python",
   "nbconvert_exporter": "python",
   "pygments_lexer": "ipython3",
   "version": "3.8.8"
  },
  "toc": {
   "base_numbering": 1,
   "nav_menu": {},
   "number_sections": true,
   "sideBar": true,
   "skip_h1_title": false,
   "title_cell": "Table of Contents",
   "title_sidebar": "Contents",
   "toc_cell": false,
   "toc_position": {},
   "toc_section_display": true,
   "toc_window_display": false
  }
 },
 "nbformat": 4,
 "nbformat_minor": 5
}
