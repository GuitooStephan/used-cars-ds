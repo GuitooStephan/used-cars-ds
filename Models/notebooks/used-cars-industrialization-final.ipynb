{
 "cells": [
  {
   "cell_type": "code",
   "execution_count": 1,
   "id": "3530f8ed",
   "metadata": {
    "ExecuteTime": {
     "end_time": "2022-05-14T11:18:20.650376Z",
     "start_time": "2022-05-14T11:18:20.552229Z"
    }
   },
   "outputs": [],
   "source": [
    "%load_ext autoreload\n",
    "%autoreload 2"
   ]
  },
  {
   "cell_type": "code",
   "execution_count": 2,
   "id": "cd741593",
   "metadata": {
    "ExecuteTime": {
     "end_time": "2022-05-14T11:18:21.625267Z",
     "start_time": "2022-05-14T11:18:21.605992Z"
    }
   },
   "outputs": [],
   "source": [
    "import warnings\n",
    "\n",
    "warnings.filterwarnings('ignore')"
   ]
  },
  {
   "cell_type": "code",
   "execution_count": 6,
   "id": "6db77dae",
   "metadata": {
    "ExecuteTime": {
     "end_time": "2022-05-14T11:34:53.178839Z",
     "start_time": "2022-05-14T11:21:50.268556Z"
    }
   },
   "outputs": [],
   "source": [
    "import pandas as pd\n",
    "from used_cars.train import build_model\n",
    "\n",
    "training_data_df = pd.read_csv('./data/autos.csv', encoding='ISO-8859-1')\n",
    "model_performance = build_model(training_data_df)"
   ]
  },
  {
   "cell_type": "code",
   "execution_count": 7,
   "id": "32965a3a",
   "metadata": {
    "ExecuteTime": {
     "end_time": "2022-05-14T11:36:08.732223Z",
     "start_time": "2022-05-14T11:36:07.460647Z"
    }
   },
   "outputs": [
    {
     "data": {
      "text/plain": [
       "0.6661687748231264"
      ]
     },
     "execution_count": 7,
     "metadata": {},
     "output_type": "execute_result"
    }
   ],
   "source": [
    "model_performance"
   ]
  },
  {
   "cell_type": "code",
   "execution_count": 4,
   "id": "08752417",
   "metadata": {
    "ExecuteTime": {
     "end_time": "2022-05-14T11:20:48.999830Z",
     "start_time": "2022-05-14T11:20:34.987670Z"
    },
    "scrolled": true
   },
   "outputs": [],
   "source": [
    "import pandas as pd\n",
    "from used_cars.inference import make_predictions\n",
    "\n",
    "user_data_df = pd.read_csv('./data/test.csv')\n",
    "predictions = make_predictions(user_data_df)"
   ]
  },
  {
   "cell_type": "code",
   "execution_count": 5,
   "id": "76e50333",
   "metadata": {
    "ExecuteTime": {
     "end_time": "2022-05-14T11:20:54.637338Z",
     "start_time": "2022-05-14T11:20:53.985553Z"
    }
   },
   "outputs": [
    {
     "data": {
      "text/plain": [
       "array([1125.80634258,  280.84630415, 1118.03464899, ..., 1511.04391499,\n",
       "        289.42000766,  969.02033645])"
      ]
     },
     "execution_count": 5,
     "metadata": {},
     "output_type": "execute_result"
    }
   ],
   "source": [
    "predictions"
   ]
  },
  {
   "cell_type": "code",
   "execution_count": null,
   "id": "416c9c64",
   "metadata": {},
   "outputs": [],
   "source": []
  }
 ],
 "metadata": {
  "kernelspec": {
   "display_name": "Python 3 (ipykernel)",
   "language": "python",
   "name": "python3"
  },
  "language_info": {
   "codemirror_mode": {
    "name": "ipython",
    "version": 3
   },
   "file_extension": ".py",
   "mimetype": "text/x-python",
   "name": "python",
   "nbconvert_exporter": "python",
   "pygments_lexer": "ipython3",
   "version": "3.9.12"
  },
  "toc": {
   "base_numbering": 1,
   "nav_menu": {},
   "number_sections": true,
   "sideBar": true,
   "skip_h1_title": false,
   "title_cell": "Table of Contents",
   "title_sidebar": "Contents",
   "toc_cell": false,
   "toc_position": {},
   "toc_section_display": true,
   "toc_window_display": false
  }
 },
 "nbformat": 4,
 "nbformat_minor": 5
}
