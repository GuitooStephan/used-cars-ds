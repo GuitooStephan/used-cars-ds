{
 "cells": [
  {
   "cell_type": "code",
   "execution_count": 1,
   "id": "3530f8ed",
   "metadata": {
    "ExecuteTime": {
     "end_time": "2022-05-10T09:53:34.357577Z",
     "start_time": "2022-05-10T09:53:33.949488Z"
    }
   },
   "outputs": [],
   "source": [
    "%load_ext autoreload\n",
    "%autoreload 2"
   ]
  },
  {
   "cell_type": "code",
   "execution_count": 2,
   "id": "cd741593",
   "metadata": {
    "ExecuteTime": {
     "end_time": "2022-05-10T09:53:36.073481Z",
     "start_time": "2022-05-10T09:53:36.052738Z"
    }
   },
   "outputs": [],
   "source": [
    "import warnings\n",
    "\n",
    "warnings.filterwarnings('ignore')"
   ]
  },
  {
   "cell_type": "code",
   "execution_count": 3,
   "id": "6db77dae",
   "metadata": {
    "ExecuteTime": {
     "end_time": "2022-05-10T10:06:17.215070Z",
     "start_time": "2022-05-10T09:53:37.134458Z"
    }
   },
   "outputs": [],
   "source": [
    "import pandas as pd\n",
    "from used_cars.train import build_model\n",
    "\n",
    "training_data_df = pd.read_csv('./autos.csv', encoding='ISO-8859-1')\n",
    "model_performance = build_model(training_data_df)"
   ]
  },
  {
   "cell_type": "code",
   "execution_count": 4,
   "id": "32965a3a",
   "metadata": {
    "ExecuteTime": {
     "end_time": "2022-05-10T10:14:26.866255Z",
     "start_time": "2022-05-10T10:14:26.065208Z"
    }
   },
   "outputs": [
    {
     "data": {
      "text/plain": [
       "0.6662820284037045"
      ]
     },
     "execution_count": 4,
     "metadata": {},
     "output_type": "execute_result"
    }
   ],
   "source": [
    "model_performance"
   ]
  },
  {
   "cell_type": "code",
   "execution_count": 6,
   "id": "08752417",
   "metadata": {
    "ExecuteTime": {
     "end_time": "2022-05-10T10:15:15.123317Z",
     "start_time": "2022-05-10T10:15:00.139437Z"
    }
   },
   "outputs": [],
   "source": [
    "from used_cars.inference import make_predictions\n",
    "\n",
    "user_data_df = pd.read_csv('./test.csv')\n",
    "predictions = make_predictions(user_data_df)"
   ]
  },
  {
   "cell_type": "code",
   "execution_count": null,
   "id": "76e50333",
   "metadata": {},
   "outputs": [],
   "source": []
  }
 ],
 "metadata": {
  "kernelspec": {
   "display_name": "Python 3",
   "language": "python",
   "name": "python3"
  },
  "language_info": {
   "codemirror_mode": {
    "name": "ipython",
    "version": 3
   },
   "file_extension": ".py",
   "mimetype": "text/x-python",
   "name": "python",
   "nbconvert_exporter": "python",
   "pygments_lexer": "ipython3",
   "version": "3.8.8"
  },
  "toc": {
   "base_numbering": 1,
   "nav_menu": {},
   "number_sections": true,
   "sideBar": true,
   "skip_h1_title": false,
   "title_cell": "Table of Contents",
   "title_sidebar": "Contents",
   "toc_cell": false,
   "toc_position": {},
   "toc_section_display": true,
   "toc_window_display": false
  }
 },
 "nbformat": 4,
 "nbformat_minor": 5
}
