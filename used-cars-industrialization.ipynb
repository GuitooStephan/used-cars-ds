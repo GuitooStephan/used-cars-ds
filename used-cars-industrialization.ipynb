{
 "cells": [
  {
   "cell_type": "markdown",
   "id": "8219a6ac",
   "metadata": {},
   "source": [
    "## Model training"
   ]
  },
  {
   "cell_type": "code",
   "execution_count": 1,
   "id": "aa589c46",
   "metadata": {
    "ExecuteTime": {
     "end_time": "2022-05-10T07:44:58.009413Z",
     "start_time": "2022-05-10T07:44:44.279248Z"
    }
   },
   "outputs": [],
   "source": [
    "import os\n",
    "import joblib\n",
    "import warnings\n",
    "import numpy as np\n",
    "import pandas as pd\n",
    "from scipy.stats import norm, skew\n",
    "from sklearn.impute import SimpleImputer\n",
    "from sklearn.pipeline import Pipeline\n",
    "from sklearn.model_selection import train_test_split\n",
    "from sklearn.compose import ColumnTransformer\n",
    "from sklearn.preprocessing import OneHotEncoder, StandardScaler\n",
    "from sklearn.ensemble import RandomForestRegressor\n",
    "from sklearn.metrics import mean_absolute_error\n",
    "\n",
    "warnings.filterwarnings('ignore')"
   ]
  },
  {
   "cell_type": "code",
   "execution_count": 2,
   "id": "44c24fd4",
   "metadata": {
    "ExecuteTime": {
     "end_time": "2022-05-10T07:44:58.023349Z",
     "start_time": "2022-05-10T07:44:58.012581Z"
    }
   },
   "outputs": [],
   "source": [
    "def compute_mae(y_test: np.ndarray, y_pred: np.ndarray, precision: int = 2):\n",
    "    mae = mean_absolute_error(y_test, y_pred)\n",
    "    return {'mae': f\"{round(mae, precision)}\"}\n",
    "\n",
    "def save_object(obj, filename):\n",
    "    current_working_dir = os.path.abspath(os.getcwd())\n",
    "    file_path = os.path.join(current_working_dir, 'models', filename)\n",
    "    joblib.dump(obj, file_path)\n",
    "    \n",
    "def load_object(filename):\n",
    "    current_working_dir = os.path.abspath(os.getcwd())\n",
    "    file_path = os.path.join(current_working_dir, 'models', filename)\n",
    "    obj = joblib.load(file_path)\n",
    "    return obj"
   ]
  },
  {
   "cell_type": "code",
   "execution_count": 3,
   "id": "8256b05e",
   "metadata": {
    "ExecuteTime": {
     "end_time": "2022-05-10T07:44:58.136805Z",
     "start_time": "2022-05-10T07:44:58.030224Z"
    }
   },
   "outputs": [],
   "source": [
    "selected_features = ['powerPS', 'vehicleType', 'brand', 'fuelType', 'kilometer', 'price']\n",
    "selected_predictors = ['powerPS', 'vehicleType', 'brand', 'fuelType', 'kilometer']\n",
    "continuous_features = ['powerPS', 'kilometer', 'price']\n",
    "continuous_predictors = ['powerPS', 'kilometer']\n",
    "categorical_features = ['vehicleType', 'brand', 'fuelType']\n",
    "target_feature = 'price'\n",
    "\n",
    "imputer_filename = 'imputer.joblib'\n",
    "pipeline_filename = 'pipeline.joblib'\n",
    "skewed_predictors = 'skewed_predictors.joblib'"
   ]
  },
  {
   "cell_type": "code",
   "execution_count": 16,
   "id": "0ede0a33",
   "metadata": {
    "ExecuteTime": {
     "end_time": "2022-05-10T08:30:42.138626Z",
     "start_time": "2022-05-10T08:30:40.623540Z"
    }
   },
   "outputs": [],
   "source": [
    "def fix_data_type(data):\n",
    "    fixed_data = data.astype({\n",
    "        'powerPS': object\n",
    "    })\n",
    "    return fixed_data\n",
    "\n",
    "def update_data_features(data_raw, features):\n",
    "    return data_raw[features]\n",
    "\n",
    "def clean_data(data_raw):\n",
    "    updated_data_raw = update_data_features(data_raw, selected_features)\n",
    "    fixed_type_data_raw = fix_data_type(updated_data_raw)\n",
    "    return fixed_type_data_raw\n",
    "\n",
    "def clean_inference_data(data):\n",
    "    updated_data_raw = update_data_features(data, selected_predictors)\n",
    "    fixed_type_data_raw = fix_data_type(updated_data_raw)\n",
    "    return fixed_type_data_raw"
   ]
  },
  {
   "cell_type": "code",
   "execution_count": 5,
   "id": "58f8f22a",
   "metadata": {
    "ExecuteTime": {
     "end_time": "2022-05-10T07:44:58.451869Z",
     "start_time": "2022-05-10T07:44:58.258979Z"
    }
   },
   "outputs": [],
   "source": [
    "def fix_data(data):\n",
    "    data.drop_duplicates(inplace=True)\n",
    "    data.drop(data[data['powerPS'] == 0].index, inplace=True)\n",
    "    data.reset_index(drop=True, inplace=True)\n",
    "    return data"
   ]
  },
  {
   "cell_type": "code",
   "execution_count": 13,
   "id": "b0189fb0",
   "metadata": {
    "ExecuteTime": {
     "end_time": "2022-05-10T07:46:05.126265Z",
     "start_time": "2022-05-10T07:46:05.117460Z"
    }
   },
   "outputs": [],
   "source": [
    "def handing_missing_values(data):\n",
    "    si = SimpleImputer(strategy='constant', fill_value='any')\n",
    "    si.fit(data[selected_predictors])\n",
    "    save_object(si, imputer_filename)\n",
    "\n",
    "def fix_missing_values(data):\n",
    "    si = load_object(imputer_filename)\n",
    "    data.loc[:, selected_predictors] = si.transform(data[selected_predictors])\n",
    "    return data"
   ]
  },
  {
   "cell_type": "code",
   "execution_count": 7,
   "id": "14ae2a80",
   "metadata": {
    "ExecuteTime": {
     "end_time": "2022-05-10T07:44:58.600278Z",
     "start_time": "2022-05-10T07:44:58.532662Z"
    }
   },
   "outputs": [],
   "source": [
    "def find_skewed_predictors(data):\n",
    "    skewness = data[continuous_predictors].apply(lambda x: skew(x))\n",
    "    skewness = skewness[abs(skewness) > 0.5]\n",
    "    skewed_features = skewness.index\n",
    "    save_object(skewed_features, skewed_predictors)\n",
    "\n",
    "def fix_predictor_skewness(data):\n",
    "    skewed_features = load_object(skewed_predictors)\n",
    "    data[skewed_features] = np.log1p(data[skewed_features].astype(float))\n",
    "    return data\n",
    "\n",
    "def fix_target_skewness(data):\n",
    "    data[target_feature] = np.log1p(data[target_feature].astype(float))\n",
    "    return data"
   ]
  },
  {
   "cell_type": "code",
   "execution_count": 8,
   "id": "f0c3f274",
   "metadata": {
    "ExecuteTime": {
     "end_time": "2022-05-10T07:44:58.676750Z",
     "start_time": "2022-05-10T07:44:58.605687Z"
    }
   },
   "outputs": [],
   "source": [
    "def preprocess_for_build(data):\n",
    "    fixed_data = fix_data(data)\n",
    "    handing_missing_values(fixed_data)\n",
    "    no_missing_array = fix_missing_values(fixed_data)\n",
    "    no_missing_data = pd.DataFrame(no_missing_array, columns=selected_features)\n",
    "    find_skewed_predictors(no_missing_data)\n",
    "    unskewed_predictors_data = fix_predictor_skewness(no_missing_data)\n",
    "    unskewed_data = fix_target_skewness(unskewed_predictors_data)\n",
    "    return unskewed_data\n",
    "\n",
    "def preprocess_for_prediction(data):\n",
    "    no_missing_data = fix_missing_values(data)\n",
    "    unskewed_data = fix_predictor_skewness(no_missing_data)\n",
    "    return unskewed_data"
   ]
  },
  {
   "cell_type": "code",
   "execution_count": 9,
   "id": "d9933ceb",
   "metadata": {
    "ExecuteTime": {
     "end_time": "2022-05-10T07:44:58.797889Z",
     "start_time": "2022-05-10T07:44:58.679112Z"
    }
   },
   "outputs": [],
   "source": [
    "def split_train_data_raw(data, target_feature):\n",
    "    X = data.drop(target_feature, axis=1)\n",
    "    y = data[target_feature]\n",
    "\n",
    "    X_train, X_test, y_train, y_test = train_test_split(X, y, test_size = 0.25, random_state = 0)\n",
    "    X_train, X_val, y_train, y_val = train_test_split(X_train, y_train, test_size = 0.25, random_state = 0)\n",
    "    \n",
    "    return X_train, X_val, y_train, y_val"
   ]
  },
  {
   "cell_type": "code",
   "execution_count": 10,
   "id": "86c59a22",
   "metadata": {
    "ExecuteTime": {
     "end_time": "2022-05-10T07:44:58.870489Z",
     "start_time": "2022-05-10T07:44:58.803140Z"
    }
   },
   "outputs": [],
   "source": [
    "def build_pipeline():\n",
    "    categorical_transformer = OneHotEncoder(handle_unknown=\"ignore\")\n",
    "    numeric_transformer = StandardScaler()\n",
    "\n",
    "    preprocessor = ColumnTransformer(\n",
    "        transformers=[\n",
    "            (\"cat\", categorical_transformer, categorical_features),\n",
    "            (\"num\", numeric_transformer, continuous_predictors),\n",
    "        ]\n",
    "    )\n",
    "\n",
    "    pipe = Pipeline([\n",
    "        ('preprocessor', preprocessor),\n",
    "        ('classifier', RandomForestRegressor())\n",
    "    ])\n",
    "    return pipe\n",
    "    \n",
    "def train_model(X, y):\n",
    "    # Train\n",
    "    pipeline = build_pipeline()\n",
    "    pipeline.fit(X, y)\n",
    "    save_object(pipeline, pipeline_filename)\n",
    "    \n",
    "def predict(data):\n",
    "    pipeline = load_object(pipeline_filename)\n",
    "    y_pred = pipeline.predict(data)\n",
    "    return y_pred"
   ]
  },
  {
   "cell_type": "code",
   "execution_count": 11,
   "id": "cc717e8f",
   "metadata": {
    "ExecuteTime": {
     "end_time": "2022-05-10T07:45:06.119956Z",
     "start_time": "2022-05-10T07:45:06.104900Z"
    }
   },
   "outputs": [],
   "source": [
    "def build_model(data_raw: pd.DataFrame):\n",
    "    cleaned_data = clean_data(data_raw)\n",
    "    preprocessed_data = preprocess_for_build(cleaned_data)\n",
    "    X_train, X_val, y_train, y_val = split_train_data_raw(preprocessed_data, target_feature)\n",
    "    # Train model and predict\n",
    "    train_model(X_train, y_train)\n",
    "    y_pred = predict(X_val)\n",
    "    result = mean_absolute_error(y_val, y_pred)\n",
    "    return result"
   ]
  },
  {
   "cell_type": "code",
   "execution_count": 14,
   "id": "40664dcc",
   "metadata": {
    "ExecuteTime": {
     "end_time": "2022-05-10T07:57:54.056737Z",
     "start_time": "2022-05-10T07:46:11.372920Z"
    }
   },
   "outputs": [
    {
     "data": {
      "text/plain": [
       "0.6659392276293278"
      ]
     },
     "execution_count": 14,
     "metadata": {},
     "output_type": "execute_result"
    }
   ],
   "source": [
    "raw = pd.read_csv('./autos.csv', encoding='ISO-8859-1')\n",
    "build_model(raw)"
   ]
  },
  {
   "cell_type": "code",
   "execution_count": 47,
   "id": "44de6615",
   "metadata": {
    "ExecuteTime": {
     "end_time": "2022-05-09T21:55:44.506576Z",
     "start_time": "2022-05-09T21:43:59.978727Z"
    }
   },
   "outputs": [],
   "source": [
    "raw = pd.read_csv('./autos.csv', encoding='ISO-8859-1')\n",
    "cleaned_data = clean_data(raw)\n",
    "preprocessed_data = preprocess_for_build(cleaned_data)\n",
    "preprocessed_data.sample(n=5)\n",
    "X_train, X_val, y_train, y_val = split_train_data_raw(preprocessed_data, target_feature)\n",
    "# Train model and predict\n",
    "train_model(X_train, y_train)\n",
    "y_pred = predict(X_val)\n",
    "result = mean_absolute_error(y_val, y_pred)"
   ]
  },
  {
   "cell_type": "code",
   "execution_count": 48,
   "id": "698461fa",
   "metadata": {
    "ExecuteTime": {
     "end_time": "2022-05-09T22:08:54.018336Z",
     "start_time": "2022-05-09T22:08:53.969600Z"
    }
   },
   "outputs": [
    {
     "data": {
      "text/plain": [
       "0.6665314754939098"
      ]
     },
     "execution_count": 48,
     "metadata": {},
     "output_type": "execute_result"
    }
   ],
   "source": [
    "result"
   ]
  },
  {
   "cell_type": "markdown",
   "id": "9ac56349",
   "metadata": {},
   "source": [
    "## Model Inference"
   ]
  },
  {
   "cell_type": "code",
   "execution_count": 15,
   "id": "8a9b0954",
   "metadata": {
    "ExecuteTime": {
     "end_time": "2022-05-10T07:58:32.016330Z",
     "start_time": "2022-05-10T07:58:26.106767Z"
    }
   },
   "outputs": [
    {
     "data": {
      "text/plain": [
       "array([ 985.81049659,  284.49368009,  853.22446714, ..., 1457.456064  ,\n",
       "        294.72783762, 1064.36126244])"
      ]
     },
     "execution_count": 15,
     "metadata": {},
     "output_type": "execute_result"
    }
   ],
   "source": [
    "def make_predictions(input_data_raw: pd.DataFrame):\n",
    "    # the model and all the data preparation objects (encoder, etc) should be loaded from the models folder\n",
    "    data = clean_inference_data(input_data_raw)\n",
    "    preprocessed_data = preprocess_for_prediction(data)\n",
    "    y_pred = predict(preprocessed_data)\n",
    "    return np.expm1(y_pred)\n",
    "\n",
    "data_raw = pd.read_csv('./test.csv')\n",
    "y_pred = make_predictions(data_raw)\n",
    "y_pred"
   ]
  },
  {
   "cell_type": "code",
   "execution_count": null,
   "id": "5f6e1534",
   "metadata": {},
   "outputs": [],
   "source": []
  }
 ],
 "metadata": {
  "kernelspec": {
   "display_name": "Python 3",
   "language": "python",
   "name": "python3"
  },
  "language_info": {
   "codemirror_mode": {
    "name": "ipython",
    "version": 3
   },
   "file_extension": ".py",
   "mimetype": "text/x-python",
   "name": "python",
   "nbconvert_exporter": "python",
   "pygments_lexer": "ipython3",
   "version": "3.8.8"
  },
  "toc": {
   "base_numbering": 1,
   "nav_menu": {},
   "number_sections": true,
   "sideBar": true,
   "skip_h1_title": false,
   "title_cell": "Table of Contents",
   "title_sidebar": "Contents",
   "toc_cell": false,
   "toc_position": {},
   "toc_section_display": true,
   "toc_window_display": false
  }
 },
 "nbformat": 4,
 "nbformat_minor": 5
}
